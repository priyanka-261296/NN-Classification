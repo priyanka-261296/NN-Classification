{
  "nbformat": 4,
  "nbformat_minor": 0,
  "metadata": {
    "colab": {
      "name": "Copy of NN Classification Project.ipynb",
      "provenance": [],
      "collapsed_sections": [],
      "authorship_tag": "ABX9TyNQt0TS1R+sdKbSm7wekhV+",
      "include_colab_link": true
    },
    "kernelspec": {
      "name": "python3",
      "display_name": "Python 3"
    },
    "language_info": {
      "name": "python"
    }
  },
  "cells": [
    {
      "cell_type": "markdown",
      "metadata": {
        "id": "view-in-github",
        "colab_type": "text"
      },
      "source": [
        "<a href=\"https://colab.research.google.com/github/priyanka-261296/NN-Classification/blob/main/Copy_of_NN_Classification_Project.ipynb\" target=\"_parent\"><img src=\"https://colab.research.google.com/assets/colab-badge.svg\" alt=\"Open In Colab\"/></a>"
      ]
    },
    {
      "cell_type": "markdown",
      "metadata": {
        "id": "dmwcSfzbEdBu"
      },
      "source": [
        "**#Import All Libraries**"
      ]
    },
    {
      "cell_type": "code",
      "metadata": {
        "id": "OFBUAzWd9qSc"
      },
      "source": [
        "import pandas as pd\n",
        "import numpy as np\n",
        "import matplotlib.pyplot as plt\n",
        "import tensorflow as tf\n",
        "\n",
        "from sklearn.model_selection import train_test_split\n",
        "from sklearn.preprocessing import StandardScaler\n"
      ],
      "execution_count": null,
      "outputs": []
    },
    {
      "cell_type": "markdown",
      "metadata": {
        "id": "eD8_ya4uE_wd"
      },
      "source": [
        "**#Import Dataset**"
      ]
    },
    {
      "cell_type": "code",
      "metadata": {
        "id": "8A3bYz-uAqow"
      },
      "source": [
        "df=pd.read_csv(\"/content/insurance.csv\")\n"
      ],
      "execution_count": null,
      "outputs": []
    },
    {
      "cell_type": "code",
      "metadata": {
        "colab": {
          "base_uri": "https://localhost:8080/",
          "height": 204
        },
        "id": "FaRVEGZIBOMS",
        "outputId": "c8eae9e8-90e5-47eb-b2f3-3bf8211df277"
      },
      "source": [
        "df.head()"
      ],
      "execution_count": null,
      "outputs": [
        {
          "output_type": "execute_result",
          "data": {
            "text/html": [
              "<div>\n",
              "<style scoped>\n",
              "    .dataframe tbody tr th:only-of-type {\n",
              "        vertical-align: middle;\n",
              "    }\n",
              "\n",
              "    .dataframe tbody tr th {\n",
              "        vertical-align: top;\n",
              "    }\n",
              "\n",
              "    .dataframe thead th {\n",
              "        text-align: right;\n",
              "    }\n",
              "</style>\n",
              "<table border=\"1\" class=\"dataframe\">\n",
              "  <thead>\n",
              "    <tr style=\"text-align: right;\">\n",
              "      <th></th>\n",
              "      <th>age</th>\n",
              "      <th>sex</th>\n",
              "      <th>bmi</th>\n",
              "      <th>children</th>\n",
              "      <th>smoker</th>\n",
              "      <th>region</th>\n",
              "      <th>charges</th>\n",
              "      <th>insuranceclaim</th>\n",
              "    </tr>\n",
              "  </thead>\n",
              "  <tbody>\n",
              "    <tr>\n",
              "      <th>0</th>\n",
              "      <td>19</td>\n",
              "      <td>0</td>\n",
              "      <td>27.900</td>\n",
              "      <td>0</td>\n",
              "      <td>1</td>\n",
              "      <td>3</td>\n",
              "      <td>16884.92400</td>\n",
              "      <td>1</td>\n",
              "    </tr>\n",
              "    <tr>\n",
              "      <th>1</th>\n",
              "      <td>18</td>\n",
              "      <td>1</td>\n",
              "      <td>33.770</td>\n",
              "      <td>1</td>\n",
              "      <td>0</td>\n",
              "      <td>2</td>\n",
              "      <td>1725.55230</td>\n",
              "      <td>1</td>\n",
              "    </tr>\n",
              "    <tr>\n",
              "      <th>2</th>\n",
              "      <td>28</td>\n",
              "      <td>1</td>\n",
              "      <td>33.000</td>\n",
              "      <td>3</td>\n",
              "      <td>0</td>\n",
              "      <td>2</td>\n",
              "      <td>4449.46200</td>\n",
              "      <td>0</td>\n",
              "    </tr>\n",
              "    <tr>\n",
              "      <th>3</th>\n",
              "      <td>33</td>\n",
              "      <td>1</td>\n",
              "      <td>22.705</td>\n",
              "      <td>0</td>\n",
              "      <td>0</td>\n",
              "      <td>1</td>\n",
              "      <td>21984.47061</td>\n",
              "      <td>0</td>\n",
              "    </tr>\n",
              "    <tr>\n",
              "      <th>4</th>\n",
              "      <td>32</td>\n",
              "      <td>1</td>\n",
              "      <td>28.880</td>\n",
              "      <td>0</td>\n",
              "      <td>0</td>\n",
              "      <td>1</td>\n",
              "      <td>3866.85520</td>\n",
              "      <td>1</td>\n",
              "    </tr>\n",
              "  </tbody>\n",
              "</table>\n",
              "</div>"
            ],
            "text/plain": [
              "   age  sex     bmi  children  smoker  region      charges  insuranceclaim\n",
              "0   19    0  27.900         0       1       3  16884.92400               1\n",
              "1   18    1  33.770         1       0       2   1725.55230               1\n",
              "2   28    1  33.000         3       0       2   4449.46200               0\n",
              "3   33    1  22.705         0       0       1  21984.47061               0\n",
              "4   32    1  28.880         0       0       1   3866.85520               1"
            ]
          },
          "metadata": {},
          "execution_count": 97
        }
      ]
    },
    {
      "cell_type": "markdown",
      "metadata": {
        "id": "Kg0u1ubhIO_C"
      },
      "source": [
        "**#Separating X and Y**"
      ]
    },
    {
      "cell_type": "code",
      "metadata": {
        "id": "EcYyNV_UB1m1"
      },
      "source": [
        "y = df[\"insuranceclaim\"]\n",
        "X = df.drop(\"insuranceclaim\",axis=1)"
      ],
      "execution_count": null,
      "outputs": []
    },
    {
      "cell_type": "markdown",
      "metadata": {
        "id": "C3baMlnaIkFX"
      },
      "source": [
        "**#Training and Testing**"
      ]
    },
    {
      "cell_type": "code",
      "metadata": {
        "id": "rZqZUEQhB6Fg"
      },
      "source": [
        "X_train,X_test,y_train,y_test = train_test_split(X,y,test_size=0.3,random_state=1)"
      ],
      "execution_count": null,
      "outputs": []
    },
    {
      "cell_type": "markdown",
      "metadata": {
        "id": "W-TcLKGRIthA"
      },
      "source": [
        "**# Scaling data**"
      ]
    },
    {
      "cell_type": "code",
      "metadata": {
        "id": "oQsT6F2gCE_X"
      },
      "source": [
        "ss = StandardScaler()"
      ],
      "execution_count": null,
      "outputs": []
    },
    {
      "cell_type": "code",
      "metadata": {
        "id": "kTtKqxzJCGHZ"
      },
      "source": [
        "X_train_ss = ss.fit_transform(X_train)"
      ],
      "execution_count": null,
      "outputs": []
    },
    {
      "cell_type": "code",
      "metadata": {
        "id": "qcMAlBmXCLps"
      },
      "source": [
        "X_test_ss = ss.transform(X_test)"
      ],
      "execution_count": null,
      "outputs": []
    },
    {
      "cell_type": "markdown",
      "metadata": {
        "id": "w7yEAZUsCSAK"
      },
      "source": [
        "**# Neural Network**"
      ]
    },
    {
      "cell_type": "code",
      "metadata": {
        "id": "CWeMaS0_CUQS"
      },
      "source": [
        "model = tf.keras.Sequential([\n",
        "    \n",
        "    tf.keras.layers.Dense(2, activation=\"relu\", input_shape=(X.shape[1],)),\n",
        "    tf.keras.layers.Dense(3, activation=\"relu\"),\n",
        "    tf.keras.layers.Dense(1, activation=\"sigmoid\")\n",
        "    \n",
        "])"
      ],
      "execution_count": null,
      "outputs": []
    },
    {
      "cell_type": "markdown",
      "metadata": {
        "id": "rAkeHYpfI8zY"
      },
      "source": [
        "**#Model Summary**"
      ]
    },
    {
      "cell_type": "code",
      "metadata": {
        "colab": {
          "base_uri": "https://localhost:8080/"
        },
        "id": "6g0PzzfbCaRf",
        "outputId": "277f00d0-c3d2-4424-d5c8-9d0cf1bbdac0"
      },
      "source": [
        "model.summary()"
      ],
      "execution_count": null,
      "outputs": [
        {
          "output_type": "stream",
          "name": "stdout",
          "text": [
            "Model: \"sequential_5\"\n",
            "_________________________________________________________________\n",
            "Layer (type)                 Output Shape              Param #   \n",
            "=================================================================\n",
            "dense_15 (Dense)             (None, 2)                 16        \n",
            "_________________________________________________________________\n",
            "dense_16 (Dense)             (None, 3)                 9         \n",
            "_________________________________________________________________\n",
            "dense_17 (Dense)             (None, 1)                 4         \n",
            "=================================================================\n",
            "Total params: 29\n",
            "Trainable params: 29\n",
            "Non-trainable params: 0\n",
            "_________________________________________________________________\n"
          ]
        }
      ]
    },
    {
      "cell_type": "code",
      "metadata": {
        "id": "qNNNQsOQChK2"
      },
      "source": [
        "model.compile(optimizer=\"adam\", loss=\"binary_crossentropy\")"
      ],
      "execution_count": null,
      "outputs": []
    },
    {
      "cell_type": "code",
      "metadata": {
        "colab": {
          "base_uri": "https://localhost:8080/"
        },
        "id": "e96U9Q7NCj7u",
        "outputId": "b5652812-a502-4cc5-bf28-8074d33f8e52"
      },
      "source": [
        "trained_model = model.fit(X_train_ss, y_train, epochs=50,batch_size=10)"
      ],
      "execution_count": null,
      "outputs": [
        {
          "output_type": "stream",
          "name": "stdout",
          "text": [
            "Epoch 1/50\n",
            "94/94 [==============================] - 1s 1ms/step - loss: 0.6813\n",
            "Epoch 2/50\n",
            "94/94 [==============================] - 0s 1ms/step - loss: 0.6706\n",
            "Epoch 3/50\n",
            "94/94 [==============================] - 0s 1ms/step - loss: 0.6552\n",
            "Epoch 4/50\n",
            "94/94 [==============================] - 0s 2ms/step - loss: 0.6350\n",
            "Epoch 5/50\n",
            "94/94 [==============================] - 0s 1ms/step - loss: 0.6110\n",
            "Epoch 6/50\n",
            "94/94 [==============================] - 0s 1ms/step - loss: 0.5882\n",
            "Epoch 7/50\n",
            "94/94 [==============================] - 0s 1ms/step - loss: 0.5685\n",
            "Epoch 8/50\n",
            "94/94 [==============================] - 0s 1ms/step - loss: 0.5509\n",
            "Epoch 9/50\n",
            "94/94 [==============================] - 0s 1ms/step - loss: 0.5357\n",
            "Epoch 10/50\n",
            "94/94 [==============================] - 0s 1ms/step - loss: 0.5222\n",
            "Epoch 11/50\n",
            "94/94 [==============================] - 0s 1ms/step - loss: 0.5103\n",
            "Epoch 12/50\n",
            "94/94 [==============================] - 0s 2ms/step - loss: 0.4996\n",
            "Epoch 13/50\n",
            "94/94 [==============================] - 0s 1ms/step - loss: 0.4897\n",
            "Epoch 14/50\n",
            "94/94 [==============================] - 0s 1ms/step - loss: 0.4808\n",
            "Epoch 15/50\n",
            "94/94 [==============================] - 0s 1ms/step - loss: 0.4723\n",
            "Epoch 16/50\n",
            "94/94 [==============================] - 0s 1ms/step - loss: 0.4651\n",
            "Epoch 17/50\n",
            "94/94 [==============================] - 0s 1ms/step - loss: 0.4583\n",
            "Epoch 18/50\n",
            "94/94 [==============================] - 0s 1ms/step - loss: 0.4526\n",
            "Epoch 19/50\n",
            "94/94 [==============================] - 0s 1ms/step - loss: 0.4476\n",
            "Epoch 20/50\n",
            "94/94 [==============================] - 0s 1ms/step - loss: 0.4426\n",
            "Epoch 21/50\n",
            "94/94 [==============================] - 0s 1ms/step - loss: 0.4382\n",
            "Epoch 22/50\n",
            "94/94 [==============================] - 0s 1ms/step - loss: 0.4343\n",
            "Epoch 23/50\n",
            "94/94 [==============================] - 0s 1ms/step - loss: 0.4309\n",
            "Epoch 24/50\n",
            "94/94 [==============================] - 0s 1ms/step - loss: 0.4277\n",
            "Epoch 25/50\n",
            "94/94 [==============================] - 0s 1ms/step - loss: 0.4249\n",
            "Epoch 26/50\n",
            "94/94 [==============================] - 0s 1ms/step - loss: 0.4224\n",
            "Epoch 27/50\n",
            "94/94 [==============================] - 0s 1ms/step - loss: 0.4196\n",
            "Epoch 28/50\n",
            "94/94 [==============================] - 0s 1ms/step - loss: 0.4174\n",
            "Epoch 29/50\n",
            "94/94 [==============================] - 0s 2ms/step - loss: 0.4153\n",
            "Epoch 30/50\n",
            "94/94 [==============================] - 0s 1ms/step - loss: 0.4133\n",
            "Epoch 31/50\n",
            "94/94 [==============================] - 0s 1ms/step - loss: 0.4114\n",
            "Epoch 32/50\n",
            "94/94 [==============================] - 0s 1ms/step - loss: 0.4100\n",
            "Epoch 33/50\n",
            "94/94 [==============================] - 0s 1ms/step - loss: 0.4086\n",
            "Epoch 34/50\n",
            "94/94 [==============================] - 0s 1ms/step - loss: 0.4072\n",
            "Epoch 35/50\n",
            "94/94 [==============================] - 0s 1ms/step - loss: 0.4058\n",
            "Epoch 36/50\n",
            "94/94 [==============================] - 0s 1ms/step - loss: 0.4046\n",
            "Epoch 37/50\n",
            "94/94 [==============================] - 0s 1ms/step - loss: 0.4035\n",
            "Epoch 38/50\n",
            "94/94 [==============================] - 0s 1ms/step - loss: 0.4022\n",
            "Epoch 39/50\n",
            "94/94 [==============================] - 0s 1ms/step - loss: 0.4014\n",
            "Epoch 40/50\n",
            "94/94 [==============================] - 0s 1ms/step - loss: 0.4002\n",
            "Epoch 41/50\n",
            "94/94 [==============================] - 0s 1ms/step - loss: 0.3996\n",
            "Epoch 42/50\n",
            "94/94 [==============================] - 0s 1ms/step - loss: 0.3985\n",
            "Epoch 43/50\n",
            "94/94 [==============================] - 0s 1ms/step - loss: 0.3978\n",
            "Epoch 44/50\n",
            "94/94 [==============================] - 0s 1ms/step - loss: 0.3973\n",
            "Epoch 45/50\n",
            "94/94 [==============================] - 0s 1ms/step - loss: 0.3961\n",
            "Epoch 46/50\n",
            "94/94 [==============================] - 0s 1ms/step - loss: 0.3954\n",
            "Epoch 47/50\n",
            "94/94 [==============================] - 0s 1ms/step - loss: 0.3946\n",
            "Epoch 48/50\n",
            "94/94 [==============================] - 0s 1ms/step - loss: 0.3940\n",
            "Epoch 49/50\n",
            "94/94 [==============================] - 0s 1ms/step - loss: 0.3929\n",
            "Epoch 50/50\n",
            "94/94 [==============================] - 0s 1ms/step - loss: 0.3920\n"
          ]
        }
      ]
    },
    {
      "cell_type": "markdown",
      "metadata": {
        "id": "VCc5lMPJDPLO"
      },
      "source": [
        "**#EDA**"
      ]
    },
    {
      "cell_type": "code",
      "metadata": {
        "colab": {
          "base_uri": "https://localhost:8080/",
          "height": 282
        },
        "id": "abvpTx6lCs7s",
        "outputId": "e19c60d1-ce90-4307-e923-4c46babbd7db"
      },
      "source": [
        "plt.plot(trained_model.history[\"loss\"])"
      ],
      "execution_count": null,
      "outputs": [
        {
          "output_type": "execute_result",
          "data": {
            "text/plain": [
              "[<matplotlib.lines.Line2D at 0x7fad67485790>]"
            ]
          },
          "metadata": {},
          "execution_count": 107
        },
        {
          "output_type": "display_data",
          "data": {
            "image/png": "[encoded data removed]",
            "text/plain": [
              "<Figure size 432x288 with 1 Axes>"
            ]
          },
          "metadata": {
            "needs_background": "light"
          }
        }
      ]
    },
    {
      "cell_type": "markdown",
      "metadata": {
        "id": "Ry4S6aQICyb7"
      },
      "source": [
        "**# Testing**"
      ]
    },
    {
      "cell_type": "code",
      "metadata": {
        "id": "WLXPQEY5C1b_"
      },
      "source": [
        "y_pred = model.predict(X_test_ss)"
      ],
      "execution_count": null,
      "outputs": []
    },
    {
      "cell_type": "code",
      "metadata": {
        "colab": {
          "base_uri": "https://localhost:8080/"
        },
        "id": "G1zdwe6IC5So",
        "outputId": "8579a5f4-0462-4a73-af52-d9c59ea3da1f"
      },
      "source": [
        "y_pred"
      ],
      "execution_count": null,
      "outputs": [
        {
          "output_type": "execute_result",
          "data": {
            "text/plain": [
              "array([[0.8765453 ],\n",
              "       [0.8765453 ],\n",
              "       [0.8765453 ],\n",
              "       [0.2542108 ],\n",
              "       [0.07302305],\n",
              "       [0.86978775],\n",
              "       [0.6931434 ],\n",
              "       [0.769889  ],\n",
              "       [0.5120049 ],\n",
              "       [0.8765453 ],\n",
              "       [0.5396519 ],\n",
              "       [0.8589605 ],\n",
              "       [0.31056   ],\n",
              "       [0.3960903 ],\n",
              "       [0.8765453 ],\n",
              "       [0.23304525],\n",
              "       [0.3377365 ],\n",
              "       [0.02181703],\n",
              "       [0.8747355 ],\n",
              "       [0.8765453 ],\n",
              "       [0.8765453 ],\n",
              "       [0.8572645 ],\n",
              "       [0.67780036],\n",
              "       [0.6634147 ],\n",
              "       [0.69106376],\n",
              "       [0.3981392 ],\n",
              "       [0.0302549 ],\n",
              "       [0.8765453 ],\n",
              "       [0.26313198],\n",
              "       [0.48877248],\n",
              "       [0.8505915 ],\n",
              "       [0.08709425],\n",
              "       [0.35828987],\n",
              "       [0.8765453 ],\n",
              "       [0.54721534],\n",
              "       [0.53314006],\n",
              "       [0.8765453 ],\n",
              "       [0.15277553],\n",
              "       [0.8765453 ],\n",
              "       [0.8765453 ],\n",
              "       [0.24938136],\n",
              "       [0.8765453 ],\n",
              "       [0.03343469],\n",
              "       [0.8765453 ],\n",
              "       [0.02774468],\n",
              "       [0.8245362 ],\n",
              "       [0.73767436],\n",
              "       [0.8765453 ],\n",
              "       [0.1397869 ],\n",
              "       [0.01262063],\n",
              "       [0.8765453 ],\n",
              "       [0.20544195],\n",
              "       [0.3365627 ],\n",
              "       [0.01643974],\n",
              "       [0.8765453 ],\n",
              "       [0.86555886],\n",
              "       [0.86989295],\n",
              "       [0.8765453 ],\n",
              "       [0.03039941],\n",
              "       [0.86700654],\n",
              "       [0.87504125],\n",
              "       [0.8765453 ],\n",
              "       [0.8765453 ],\n",
              "       [0.5872976 ],\n",
              "       [0.8765453 ],\n",
              "       [0.69274557],\n",
              "       [0.04843453],\n",
              "       [0.1937319 ],\n",
              "       [0.10817322],\n",
              "       [0.8765453 ],\n",
              "       [0.87204444],\n",
              "       [0.8659493 ],\n",
              "       [0.6133372 ],\n",
              "       [0.01519686],\n",
              "       [0.8702688 ],\n",
              "       [0.8765453 ],\n",
              "       [0.25203043],\n",
              "       [0.64561653],\n",
              "       [0.5682904 ],\n",
              "       [0.08275753],\n",
              "       [0.01468968],\n",
              "       [0.4292292 ],\n",
              "       [0.21029958],\n",
              "       [0.7027797 ],\n",
              "       [0.8765453 ],\n",
              "       [0.8552084 ],\n",
              "       [0.19131988],\n",
              "       [0.8589052 ],\n",
              "       [0.3871016 ],\n",
              "       [0.32065523],\n",
              "       [0.8765453 ],\n",
              "       [0.4187351 ],\n",
              "       [0.1785213 ],\n",
              "       [0.6472234 ],\n",
              "       [0.25491732],\n",
              "       [0.8242994 ],\n",
              "       [0.24848565],\n",
              "       [0.6836519 ],\n",
              "       [0.8765453 ],\n",
              "       [0.02979946],\n",
              "       [0.8765453 ],\n",
              "       [0.8765453 ],\n",
              "       [0.3934347 ],\n",
              "       [0.8741492 ],\n",
              "       [0.8765453 ],\n",
              "       [0.8765453 ],\n",
              "       [0.33384293],\n",
              "       [0.5379587 ],\n",
              "       [0.77543473],\n",
              "       [0.8214055 ],\n",
              "       [0.6150787 ],\n",
              "       [0.12280595],\n",
              "       [0.40958688],\n",
              "       [0.678414  ],\n",
              "       [0.23444545],\n",
              "       [0.6432047 ],\n",
              "       [0.06741425],\n",
              "       [0.5954311 ],\n",
              "       [0.14733678],\n",
              "       [0.7907207 ],\n",
              "       [0.5560525 ],\n",
              "       [0.07233366],\n",
              "       [0.49114856],\n",
              "       [0.35567552],\n",
              "       [0.8765453 ],\n",
              "       [0.17875117],\n",
              "       [0.01923642],\n",
              "       [0.42251727],\n",
              "       [0.8631767 ],\n",
              "       [0.63726336],\n",
              "       [0.8710849 ],\n",
              "       [0.04883412],\n",
              "       [0.0985108 ],\n",
              "       [0.8747765 ],\n",
              "       [0.7189304 ],\n",
              "       [0.13934222],\n",
              "       [0.43513018],\n",
              "       [0.8685099 ],\n",
              "       [0.1523233 ],\n",
              "       [0.8765453 ],\n",
              "       [0.8765453 ],\n",
              "       [0.14034158],\n",
              "       [0.7890636 ],\n",
              "       [0.8765453 ],\n",
              "       [0.33720815],\n",
              "       [0.7489975 ],\n",
              "       [0.34328425],\n",
              "       [0.08630499],\n",
              "       [0.71095216],\n",
              "       [0.03005284],\n",
              "       [0.8764972 ],\n",
              "       [0.18601754],\n",
              "       [0.6789087 ],\n",
              "       [0.69504356],\n",
              "       [0.8765453 ],\n",
              "       [0.6425073 ],\n",
              "       [0.70830446],\n",
              "       [0.4086579 ],\n",
              "       [0.32784483],\n",
              "       [0.8765453 ],\n",
              "       [0.7895529 ],\n",
              "       [0.8765453 ],\n",
              "       [0.72004735],\n",
              "       [0.42239934],\n",
              "       [0.08426285],\n",
              "       [0.87522626],\n",
              "       [0.87629306],\n",
              "       [0.51855516],\n",
              "       [0.68965256],\n",
              "       [0.6305676 ],\n",
              "       [0.13292047],\n",
              "       [0.8765453 ],\n",
              "       [0.8765453 ],\n",
              "       [0.8765453 ],\n",
              "       [0.19865423],\n",
              "       [0.2764797 ],\n",
              "       [0.7306516 ],\n",
              "       [0.12888262],\n",
              "       [0.07467079],\n",
              "       [0.8589593 ],\n",
              "       [0.8534981 ],\n",
              "       [0.3804382 ],\n",
              "       [0.8040147 ],\n",
              "       [0.87105477],\n",
              "       [0.07186869],\n",
              "       [0.8765453 ],\n",
              "       [0.5752412 ],\n",
              "       [0.86451274],\n",
              "       [0.22243667],\n",
              "       [0.00317141],\n",
              "       [0.42346188],\n",
              "       [0.86829364],\n",
              "       [0.19112775],\n",
              "       [0.10567337],\n",
              "       [0.01070729],\n",
              "       [0.24401626],\n",
              "       [0.00780141],\n",
              "       [0.8740083 ],\n",
              "       [0.0039857 ],\n",
              "       [0.35688818],\n",
              "       [0.7645029 ],\n",
              "       [0.5686294 ],\n",
              "       [0.00965911],\n",
              "       [0.42729923],\n",
              "       [0.16088787],\n",
              "       [0.46379519],\n",
              "       [0.7584464 ],\n",
              "       [0.23299053],\n",
              "       [0.87367547],\n",
              "       [0.7745252 ],\n",
              "       [0.6125348 ],\n",
              "       [0.8765453 ],\n",
              "       [0.02579582],\n",
              "       [0.29875624],\n",
              "       [0.44285604],\n",
              "       [0.8765453 ],\n",
              "       [0.81276476],\n",
              "       [0.73299134],\n",
              "       [0.87381566],\n",
              "       [0.8765453 ],\n",
              "       [0.7267565 ],\n",
              "       [0.8765453 ],\n",
              "       [0.38019562],\n",
              "       [0.00214499],\n",
              "       [0.59082806],\n",
              "       [0.31747568],\n",
              "       [0.7290964 ],\n",
              "       [0.8542435 ],\n",
              "       [0.8765453 ],\n",
              "       [0.8765453 ],\n",
              "       [0.25347394],\n",
              "       [0.03989488],\n",
              "       [0.86657196],\n",
              "       [0.00214162],\n",
              "       [0.17136717],\n",
              "       [0.8453061 ],\n",
              "       [0.6459075 ],\n",
              "       [0.7552171 ],\n",
              "       [0.8765453 ],\n",
              "       [0.45788398],\n",
              "       [0.86610013],\n",
              "       [0.8679831 ],\n",
              "       [0.8765453 ],\n",
              "       [0.8340837 ],\n",
              "       [0.8765453 ],\n",
              "       [0.51192224],\n",
              "       [0.52784616],\n",
              "       [0.6255529 ],\n",
              "       [0.52463895],\n",
              "       [0.8765453 ],\n",
              "       [0.8765453 ],\n",
              "       [0.26119936],\n",
              "       [0.6615495 ],\n",
              "       [0.15609273],\n",
              "       [0.72496295],\n",
              "       [0.87095547],\n",
              "       [0.8765453 ],\n",
              "       [0.8765453 ],\n",
              "       [0.15779656],\n",
              "       [0.8765453 ],\n",
              "       [0.17339158],\n",
              "       [0.27538738],\n",
              "       [0.70929956],\n",
              "       [0.8716742 ],\n",
              "       [0.8748895 ],\n",
              "       [0.8707082 ],\n",
              "       [0.87234163],\n",
              "       [0.5169942 ],\n",
              "       [0.6418241 ],\n",
              "       [0.10934886],\n",
              "       [0.87381923],\n",
              "       [0.5078894 ],\n",
              "       [0.7533731 ],\n",
              "       [0.06201228],\n",
              "       [0.31637046],\n",
              "       [0.8765453 ],\n",
              "       [0.18124849],\n",
              "       [0.07701346],\n",
              "       [0.8765453 ],\n",
              "       [0.35769182],\n",
              "       [0.57105434],\n",
              "       [0.54549056],\n",
              "       [0.09475151],\n",
              "       [0.5564012 ],\n",
              "       [0.06205869],\n",
              "       [0.27623302],\n",
              "       [0.71165913],\n",
              "       [0.8765453 ],\n",
              "       [0.7262611 ],\n",
              "       [0.36014384],\n",
              "       [0.8436708 ],\n",
              "       [0.29672575],\n",
              "       [0.8765453 ],\n",
              "       [0.80050194],\n",
              "       [0.8765453 ],\n",
              "       [0.8765453 ],\n",
              "       [0.8765453 ],\n",
              "       [0.0078392 ],\n",
              "       [0.2933277 ],\n",
              "       [0.19527707],\n",
              "       [0.37179422],\n",
              "       [0.00461909],\n",
              "       [0.7902976 ],\n",
              "       [0.6036952 ],\n",
              "       [0.21559289],\n",
              "       [0.8765453 ],\n",
              "       [0.5006911 ],\n",
              "       [0.05615035],\n",
              "       [0.7256146 ],\n",
              "       [0.0062243 ],\n",
              "       [0.48303998],\n",
              "       [0.71343654],\n",
              "       [0.8765453 ],\n",
              "       [0.8689035 ],\n",
              "       [0.77474535],\n",
              "       [0.8765453 ],\n",
              "       [0.1778448 ],\n",
              "       [0.64138734],\n",
              "       [0.8765453 ],\n",
              "       [0.21375611],\n",
              "       [0.8765453 ],\n",
              "       [0.22650728],\n",
              "       [0.3685565 ],\n",
              "       [0.5762483 ],\n",
              "       [0.43272802],\n",
              "       [0.85641885],\n",
              "       [0.02975497],\n",
              "       [0.05734614],\n",
              "       [0.0237239 ],\n",
              "       [0.8765453 ],\n",
              "       [0.70895195],\n",
              "       [0.8765453 ],\n",
              "       [0.85828954],\n",
              "       [0.67417216],\n",
              "       [0.21705815],\n",
              "       [0.45101917],\n",
              "       [0.04852268],\n",
              "       [0.8765453 ],\n",
              "       [0.21295595],\n",
              "       [0.72340846],\n",
              "       [0.8765453 ],\n",
              "       [0.7950727 ],\n",
              "       [0.8765453 ],\n",
              "       [0.03052795],\n",
              "       [0.1547735 ],\n",
              "       [0.87176526],\n",
              "       [0.31761712],\n",
              "       [0.14241582],\n",
              "       [0.6082809 ],\n",
              "       [0.8765453 ],\n",
              "       [0.09233275],\n",
              "       [0.86927307],\n",
              "       [0.04097059],\n",
              "       [0.8636297 ],\n",
              "       [0.8765453 ],\n",
              "       [0.01753521],\n",
              "       [0.86704296],\n",
              "       [0.8765453 ],\n",
              "       [0.86431426],\n",
              "       [0.6025332 ],\n",
              "       [0.32476157],\n",
              "       [0.03678408],\n",
              "       [0.85989463],\n",
              "       [0.19288534],\n",
              "       [0.6569162 ],\n",
              "       [0.31820956],\n",
              "       [0.8679466 ],\n",
              "       [0.7107856 ],\n",
              "       [0.0502581 ],\n",
              "       [0.8765453 ],\n",
              "       [0.8765453 ],\n",
              "       [0.8765453 ],\n",
              "       [0.8765453 ],\n",
              "       [0.69044656],\n",
              "       [0.00490332],\n",
              "       [0.12058339],\n",
              "       [0.27657533],\n",
              "       [0.7247616 ],\n",
              "       [0.8133171 ],\n",
              "       [0.8700161 ],\n",
              "       [0.44177207],\n",
              "       [0.8765453 ],\n",
              "       [0.8765453 ],\n",
              "       [0.72452694],\n",
              "       [0.8763865 ],\n",
              "       [0.35877103],\n",
              "       [0.8765453 ],\n",
              "       [0.476189  ],\n",
              "       [0.8672657 ],\n",
              "       [0.07276398],\n",
              "       [0.8765453 ],\n",
              "       [0.8765453 ],\n",
              "       [0.74373084],\n",
              "       [0.8765453 ],\n",
              "       [0.87402236],\n",
              "       [0.8765453 ],\n",
              "       [0.05760932],\n",
              "       [0.8765453 ],\n",
              "       [0.8390706 ],\n",
              "       [0.617935  ],\n",
              "       [0.8765453 ],\n",
              "       [0.3270073 ]], dtype=float32)"
            ]
          },
          "metadata": {},
          "execution_count": 109
        }
      ]
    },
    {
      "cell_type": "code",
      "metadata": {
        "id": "17PY3ugbC8sY"
      },
      "source": [
        "y_pred = np.where(y_pred >= 0.5,1,0)"
      ],
      "execution_count": null,
      "outputs": []
    },
    {
      "cell_type": "code",
      "metadata": {
        "id": "zpZqThy3DFOG"
      },
      "source": [
        "from sklearn.metrics import classification_report"
      ],
      "execution_count": null,
      "outputs": []
    },
    {
      "cell_type": "code",
      "metadata": {
        "colab": {
          "base_uri": "https://localhost:8080/"
        },
        "id": "7l87MrTJDMlt",
        "outputId": "36395e91-2c56-483f-cc5f-854e7e7a8860"
      },
      "source": [
        "print(classification_report(y_test,y_pred))"
      ],
      "execution_count": null,
      "outputs": [
        {
          "output_type": "stream",
          "name": "stdout",
          "text": [
            "              precision    recall  f1-score   support\n",
            "\n",
            "           0       0.86      0.87      0.86       157\n",
            "           1       0.91      0.91      0.91       245\n",
            "\n",
            "    accuracy                           0.89       402\n",
            "   macro avg       0.88      0.89      0.89       402\n",
            "weighted avg       0.89      0.89      0.89       402\n",
            "\n"
          ]
        }
      ]
    }
  ]
}